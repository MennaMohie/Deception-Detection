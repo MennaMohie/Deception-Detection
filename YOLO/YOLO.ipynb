{
 "cells": [
  {
   "cell_type": "code",
   "execution_count": 6,
   "metadata": {},
   "outputs": [],
   "source": [
    "import cv2\n",
    "import glob"
   ]
  },
  {
   "cell_type": "code",
   "execution_count": 7,
   "metadata": {},
   "outputs": [],
   "source": [
    "def read_videos(path):\n",
    "    videos = []\n",
    "    videos_names = glob.glob(path)\n",
    "    for video_name in videos_names:\n",
    "        videos.append(cv2.VideoCapture(video_name))\n",
    "    return videos\n",
    "\n",
    "def yolo_v3(video):\n",
    "    return \n",
    "\n",
    "def get_video_maximum_bounding_box(video_bouding_boxes):\n",
    "    return\n",
    "\n",
    "def crop_videos(videos, videos_bounding_box):\n",
    "    return []\n",
    "\n",
    "def save_videos(videos_after_cropping):\n",
    "    return "
   ]
  },
  {
   "cell_type": "code",
   "execution_count": 8,
   "metadata": {},
   "outputs": [],
   "source": [
    "videos = read_videos(\"Dataset/*.mp4\")"
   ]
  },
  {
   "cell_type": "code",
   "execution_count": 28,
   "metadata": {},
   "outputs": [],
   "source": [
    "videos_bounding_box = []\n",
    "for video in videos:\n",
    "    video_bounding_boxes = yolo_v3(video)\n",
    "    maximum_bounding_box = get_video_maximum_bounding_box(video_bouding_boxes)\n",
    "    videos_bounding_box.append(maximum_bounding_box)"
   ]
  },
  {
   "cell_type": "code",
   "execution_count": 29,
   "metadata": {},
   "outputs": [],
   "source": [
    "videos_after_cropping = crop_videos(videos, videos_bounding_box)"
   ]
  },
  {
   "cell_type": "code",
   "execution_count": 30,
   "metadata": {},
   "outputs": [],
   "source": [
    "save_videos(videos_after_cropping)"
   ]
  },
  {
   "cell_type": "code",
   "execution_count": null,
   "metadata": {},
   "outputs": [],
   "source": []
  }
 ],
 "metadata": {
  "kernelspec": {
   "display_name": "Python 3",
   "language": "python",
   "name": "python3"
  },
  "language_info": {
   "codemirror_mode": {
    "name": "ipython",
    "version": 3
   },
   "file_extension": ".py",
   "mimetype": "text/x-python",
   "name": "python",
   "nbconvert_exporter": "python",
   "pygments_lexer": "ipython3",
   "version": "3.6.10"
  }
 },
 "nbformat": 4,
 "nbformat_minor": 4
}
