{
 "cells": [
  {
   "cell_type": "markdown",
   "metadata": {},
   "source": [
    "<h2>Imports & variable declarations </h2>"
   ]
  },
  {
   "cell_type": "code",
   "execution_count": 309,
   "metadata": {},
   "outputs": [],
   "source": [
    "import glob\n",
    "import cv2\n",
    "import numpy as np\n",
    "import os\n",
    "from os.path import isfile, join"
   ]
  },
  {
   "cell_type": "code",
   "execution_count": 310,
   "metadata": {},
   "outputs": [],
   "source": [
    "maximum_frames = 2443\n",
    "minimum_frames = 113\n",
    "video_path = \"Clips/\""
   ]
  },
  {
   "cell_type": "markdown",
   "metadata": {},
   "source": [
    "<h2>Functions</h2>"
   ]
  },
  {
   "cell_type": "code",
   "execution_count": 311,
   "metadata": {},
   "outputs": [],
   "source": [
    "def read_videos(path):\n",
    "    videos = []\n",
    "    videos_fps= [] #frames per second\n",
    "    videos_paths = glob.glob(path + '/*[0-9].mp4')\n",
    "    for video_path in videos_paths:\n",
    "        video = cv2.VideoCapture(video_path)\n",
    "        fps = video.get(cv2.CAP_PROP_FPS)\n",
    "        videos.append(video)\n",
    "        videos_fps.append(fps)\n",
    "    return videos, videos_fps"
   ]
  },
  {
   "cell_type": "code",
   "execution_count": 312,
   "metadata": {},
   "outputs": [],
   "source": [
    "def read():\n",
    "    path = 'Clips'\n",
    "    truthful_videos, truth_videos_fps = read_videos(path + '/Truthful')\n",
    "    deceptive_videos, deceptive_videos_fps = read_videos(path + '/Deceptive')\n",
    "    return truthful_videos, truth_videos_fps, deceptive_videos, deceptive_videos_fps"
   ]
  },
  {
   "cell_type": "code",
   "execution_count": 313,
   "metadata": {},
   "outputs": [],
   "source": [
    "def add_frames_with_noise(videos):\n",
    "    videos_extended_noise = []\n",
    "    for video in videos:\n",
    "        frames_number = int(video.get(cv2.CAP_PROP_FRAME_COUNT))\n",
    "        if frames_number < maximum_frames:\n",
    "            video = extend_video_with_noise(video)\n",
    "        videos_extended_noise.append(video)\n",
    "    return videos_extended_noise"
   ]
  },
  {
   "cell_type": "code",
   "execution_count": 323,
   "metadata": {},
   "outputs": [],
   "source": [
    "def extend_video_with_noise(video):\n",
    "    original_frames = get_video_frames(video)\n",
    "    \n",
    "    if len(original_frames) == 0:\n",
    "        return video\n",
    "    \n",
    "    frames_with_noise = add_noise_to_frames(original_frames)\n",
    "    \n",
    "    final_frames = original_frames\n",
    "    repeat_frames = maximum_frames // len(original_frames)\n",
    "    i = 0\n",
    "    while i in range(repeat_frames - 1):\n",
    "        final_frames.extend(frames_with_noise)\n",
    "        i += 1\n",
    "    i = 0\n",
    "    if len(final_frames) < maximum_frames:\n",
    "        while len(final_frames) < maximum_frames and i < len(frames_with_noise):\n",
    "            final_frames.append(frames_with_noise[i])\n",
    "            i += 1\n",
    "    return final_frames"
   ]
  },
  {
   "cell_type": "code",
   "execution_count": 315,
   "metadata": {},
   "outputs": [],
   "source": [
    "def get_video_frames(video):\n",
    "    frames = []\n",
    "    success, frame = video.read()\n",
    "    while success:\n",
    "        frames.append(frame)\n",
    "        success, frame = video.read()\n",
    "    return frames"
   ]
  },
  {
   "cell_type": "code",
   "execution_count": 316,
   "metadata": {},
   "outputs": [],
   "source": [
    "def add_noise_to_frames(frames):\n",
    "    noisy_frames = []\n",
    "    for frame in frames:\n",
    "        noisy_frames.append(add_noise_to_frame(frame))\n",
    "    return noisy_frames"
   ]
  },
  {
   "cell_type": "code",
   "execution_count": 317,
   "metadata": {},
   "outputs": [],
   "source": [
    "def add_noise_to_frame(frame):\n",
    "    mean = 0\n",
    "    var = 20\n",
    "    sigma = var ** 0.5\n",
    "    #frame = resize_frame(frame)\n",
    "    height, width, _ = frame.shape\n",
    "    gaussian = np.random.normal(mean, sigma, (height, width)) #  np.zeros((224, 224), np.float32)\n",
    "    noisy_image = np.zeros(frame.shape, np.float32)\n",
    "\n",
    "    if len(frame.shape) == 2:\n",
    "        noisy_image = img + gaussian\n",
    "    else:\n",
    "        noisy_image[:, :, 0] = frame[:, :, 0] + gaussian\n",
    "        noisy_image[:, :, 1] = frame[:, :, 1] + gaussian\n",
    "        noisy_image[:, :, 2] = frame[:, :, 2] + gaussian\n",
    "\n",
    "    cv2.normalize(noisy_image, noisy_image, 0, 255, cv2.NORM_MINMAX, dtype=-1)\n",
    "    noisy_frame = noisy_image.astype(np.uint8)\n",
    "    \n",
    "    #cv2.imshow(\"img\", frame)\n",
    "    #cv2.imshow(\"noise\", noisy_frame)\n",
    "    #cv2.waitKey(0)\n",
    "\n",
    "    return noisy_frame"
   ]
  },
  {
   "cell_type": "code",
   "execution_count": 318,
   "metadata": {},
   "outputs": [],
   "source": [
    "def convert_frames_to_videos(path, videos_frames, frames_per_second):\n",
    "    videos = []\n",
    "    for i, video_frames, fps in zip(range(1,len(videos_frames)+1), videos_frames, frames_per_second):\n",
    "        video = create_video(path + \"/{}.mp4\".format(i), video_frames, fps)\n",
    "        videos.append(video)\n",
    "    return videos "
   ]
  },
  {
   "cell_type": "code",
   "execution_count": 319,
   "metadata": {},
   "outputs": [],
   "source": [
    "def create_video(pathOut, frames, fps):\n",
    "    frame_array = []\n",
    "    for i in range(len(frames)):\n",
    "        height, width, layers = frames[i].shape\n",
    "        size = (width,height)\n",
    "        #inserting the frames into an image array\n",
    "        frame_array.append(frames[i])\n",
    "\n",
    "    out = cv2.VideoWriter(pathOut,cv2.VideoWriter_fourcc(*'DIVX'), fps, size)\n",
    "\n",
    "    for i in range(len(frame_array)):\n",
    "        out.write(frame_array[i])\n",
    "    out.release()"
   ]
  },
  {
   "cell_type": "markdown",
   "metadata": {},
   "source": [
    "<h2>Main</h2>"
   ]
  },
  {
   "cell_type": "code",
   "execution_count": 320,
   "metadata": {},
   "outputs": [],
   "source": [
    "truthful_videos, truth_videos_fps, deceptive_videos, deceptive_videos_fps = read()"
   ]
  },
  {
   "cell_type": "code",
   "execution_count": 324,
   "metadata": {},
   "outputs": [],
   "source": [
    "truthful_videos_frames = add_frames_with_noise(truthful_videos)\n",
    "deceptive_videos_frames = add_frames_with_noise(deceptive_videos)"
   ]
  },
  {
   "cell_type": "code",
   "execution_count": 322,
   "metadata": {},
   "outputs": [],
   "source": [
    "truthful_videos_extended = convert_frames_to_videos(video_path + \"Truthful-noise\", truthful_videos_frames, truth_videos_fps)\n",
    "deceptive_videos_extended = convert_frames_to_videos(video_path + \"Deceptive-noise\", deceptive_videos_frames, deceptive_videos_fps)"
   ]
  },
  {
   "cell_type": "code",
   "execution_count": null,
   "metadata": {},
   "outputs": [],
   "source": []
  }
 ],
 "metadata": {
  "kernelspec": {
   "display_name": "Python 3",
   "language": "python",
   "name": "python3"
  },
  "language_info": {
   "codemirror_mode": {
    "name": "ipython",
    "version": 3
   },
   "file_extension": ".py",
   "mimetype": "text/x-python",
   "name": "python",
   "nbconvert_exporter": "python",
   "pygments_lexer": "ipython3",
   "version": "3.6.10"
  }
 },
 "nbformat": 4,
 "nbformat_minor": 4
}
