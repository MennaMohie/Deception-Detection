{
 "cells": [
  {
   "cell_type": "code",
   "execution_count": 4,
   "metadata": {},
   "outputs": [],
   "source": [
    "from keras.models import Sequential\n",
    "from keras.layers.core import Flatten, Dense, Dropout\n",
    "from keras.layers.convolutional import Convolution3D, MaxPooling3D, ZeroPadding3D\n",
    "from keras.optimizers import SGD\n",
    "import cv2, numpy as np"
   ]
  },
  {
   "cell_type": "code",
   "execution_count": 9,
   "metadata": {},
   "outputs": [],
   "source": [
    "# in_shape parameter is the input shape of the video, custom added not in the original model\n",
    "def VGG_19(in_shape, weights_path=None):\n",
    "    model = Sequential()\n",
    "    model.add(ZeroPadding3D(padding=(0, 1, 1), input_shape=in_shape))\n",
    "    #replace with video size (in_shape)\n",
    "    model.add(Convolution3D(128, 3, 3, 3, activation='relu'))\n",
    "    model.add(ZeroPadding3D(padding=(0, 1, 1), input_shape=in_shape))\n",
    "    model.add(Convolution3D(128, 3, 3, 3, activation='relu'))\n",
    "    model.add(MaxPooling3D(pool_size=(2, 2, 2), strides=(2, 2, 2)))\n",
    "\n",
    "    model.add(ZeroPadding3D(padding=(0, 1, 1), input_shape=in_shape))\n",
    "    model.add(Convolution3D(128, 3, 3, 3, activation='relu'))\n",
    "    model.add(ZeroPadding3D(padding=(0, 1, 1), input_shape=in_shape))\n",
    "    model.add(Convolution3D(128, 3, 3, 3, activation='relu'))\n",
    "    model.add(MaxPooling3D(pool_size=(2, 2, 2), strides=(2, 2, 2)))\n",
    "\n",
    "    model.add(ZeroPadding3D(padding=(0, 1, 1), input_shape=in_shape))\n",
    "    model.add(Convolution3D(128, 3, 3, 3, activation='relu'))\n",
    "    model.add(ZeroPadding3D(padding=(0, 1, 1), input_shape=in_shape))\n",
    "    model.add(Convolution3D(128, 3, 3, 3, activation='relu'))\n",
    "    model.add(ZeroPadding3D(padding=(0, 1, 1), input_shape=in_shape))\n",
    "    model.add(Convolution3D(128, 3, 3, 3, activation='relu'))\n",
    "    model.add(ZeroPadding3D(padding=(0, 1, 1), input_shape=in_shape))\n",
    "    model.add(Convolution3D(128, 3, 3, 3, activation='relu'))\n",
    "    model.add(MaxPooling3D(pool_size=(2, 2, 2), strides=(2, 2, 2)))\n",
    "\n",
    "    model.add(ZeroPadding3D(padding=(0, 1, 1), input_shape=in_shape))\n",
    "    model.add(Convolution3D(128, 3, 3, 3, activation='relu'))\n",
    "    model.add(ZeroPadding3D(padding=(0, 1, 1), input_shape=in_shape))\n",
    "    model.add(Convolution3D(128, 3, 3, 3, activation='relu'))\n",
    "    model.add(ZeroPadding3D(padding=(0, 1, 1), input_shape=in_shape))\n",
    "    model.add(Convolution3D(128, 3, 3, 3, activation='relu'))\n",
    "    model.add(ZeroPadding3D(padding=(0, 1, 1), input_shape=in_shape))\n",
    "    model.add(Convolution3D(128, 3, 3, 3, activation='relu'))\n",
    "    model.add(MaxPooling3D(pool_size=(2, 2, 2), strides=(2, 2, 2)))\n",
    "\n",
    "    model.add(ZeroPadding3D(padding=(0, 1, 1), input_shape=in_shape))\n",
    "    model.add(Convolution3D(128, 3, 3, 3, activation='relu'))\n",
    "    model.add(ZeroPadding3D(padding=(0, 1, 1), input_shape=in_shape))\n",
    "    model.add(Convolution3D(128, 3, 3, 3, activation='relu'))\n",
    "    model.add(ZeroPadding3D(padding=(0, 1, 1), input_shape=in_shape))\n",
    "    model.add(Convolution3D(128, 3, 3, 3, activation='relu'))\n",
    "    model.add(ZeroPadding3D(padding=(0, 1, 1), input_shape=in_shape))\n",
    "    model.add(Convolution3D(128, 3, 3, 3, activation='relu'))\n",
    "    model.add(MaxPooling3D(pool_size=(2, 2, 2), strides=(2, 2, 2)))\n",
    "\n",
    "    model.add(Flatten())\n",
    "    model.add(Dense(4096, activation='relu'))\n",
    "    model.add(Dropout(0.5))\n",
    "    model.add(Dense(4096, activation='relu'))\n",
    "    model.add(Dropout(0.5))\n",
    "    model.add(Dense(1000, activation='softmax'))\n",
    "\n",
    "    if weights_path:\n",
    "        model.load_weights(weights_path)\n",
    "\n",
    "    return model"
   ]
  },
  {
   "cell_type": "code",
   "execution_count": null,
   "metadata": {},
   "outputs": [],
   "source": []
  }
 ],
 "metadata": {
  "kernelspec": {
   "display_name": "Python 3",
   "language": "python",
   "name": "python3"
  },
  "language_info": {
   "codemirror_mode": {
    "name": "ipython",
    "version": 3
   },
   "file_extension": ".py",
   "mimetype": "text/x-python",
   "name": "python",
   "nbconvert_exporter": "python",
   "pygments_lexer": "ipython3",
   "version": "3.6.10"
  }
 },
 "nbformat": 4,
 "nbformat_minor": 4
}
