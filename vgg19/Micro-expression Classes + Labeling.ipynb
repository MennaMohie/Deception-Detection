{
 "cells": [
  {
   "cell_type": "code",
   "execution_count": 1,
   "metadata": {},
   "outputs": [],
   "source": [
    "import pandas\n",
    "import numpy as np\n",
    "import tensorflow as tf"
   ]
  },
  {
   "cell_type": "code",
   "execution_count": 2,
   "metadata": {},
   "outputs": [
    {
     "data": {
      "text/html": [
       "<div>\n",
       "<style scoped>\n",
       "    .dataframe tbody tr th:only-of-type {\n",
       "        vertical-align: middle;\n",
       "    }\n",
       "\n",
       "    .dataframe tbody tr th {\n",
       "        vertical-align: top;\n",
       "    }\n",
       "\n",
       "    .dataframe thead th {\n",
       "        text-align: right;\n",
       "    }\n",
       "</style>\n",
       "<table border=\"1\" class=\"dataframe\">\n",
       "  <thead>\n",
       "    <tr style=\"text-align: right;\">\n",
       "      <th></th>\n",
       "      <th>id</th>\n",
       "      <th>OtherGestures</th>\n",
       "      <th>Smile</th>\n",
       "      <th>Laugh</th>\n",
       "      <th>Scowl</th>\n",
       "      <th>otherEyebrowMovement</th>\n",
       "      <th>Frown</th>\n",
       "      <th>Raise</th>\n",
       "      <th>OtherEyeMovements</th>\n",
       "      <th>Close-R</th>\n",
       "      <th>...</th>\n",
       "      <th>forwardHead</th>\n",
       "      <th>downRHead</th>\n",
       "      <th>singleHand</th>\n",
       "      <th>bothHands</th>\n",
       "      <th>otherHandM</th>\n",
       "      <th>complexHandM</th>\n",
       "      <th>sidewaysHand</th>\n",
       "      <th>downHands</th>\n",
       "      <th>upHands</th>\n",
       "      <th>class</th>\n",
       "    </tr>\n",
       "  </thead>\n",
       "  <tbody>\n",
       "    <tr>\n",
       "      <th>0</th>\n",
       "      <td>trial_lie_001.mp4</td>\n",
       "      <td>1</td>\n",
       "      <td>0</td>\n",
       "      <td>0</td>\n",
       "      <td>0</td>\n",
       "      <td>1</td>\n",
       "      <td>0</td>\n",
       "      <td>0</td>\n",
       "      <td>1</td>\n",
       "      <td>0</td>\n",
       "      <td>...</td>\n",
       "      <td>0</td>\n",
       "      <td>0</td>\n",
       "      <td>0</td>\n",
       "      <td>0</td>\n",
       "      <td>1</td>\n",
       "      <td>0</td>\n",
       "      <td>0</td>\n",
       "      <td>0</td>\n",
       "      <td>0</td>\n",
       "      <td>deceptive</td>\n",
       "    </tr>\n",
       "    <tr>\n",
       "      <th>1</th>\n",
       "      <td>trial_lie_002.mp4</td>\n",
       "      <td>1</td>\n",
       "      <td>0</td>\n",
       "      <td>0</td>\n",
       "      <td>0</td>\n",
       "      <td>0</td>\n",
       "      <td>1</td>\n",
       "      <td>0</td>\n",
       "      <td>1</td>\n",
       "      <td>0</td>\n",
       "      <td>...</td>\n",
       "      <td>0</td>\n",
       "      <td>0</td>\n",
       "      <td>0</td>\n",
       "      <td>1</td>\n",
       "      <td>0</td>\n",
       "      <td>1</td>\n",
       "      <td>0</td>\n",
       "      <td>0</td>\n",
       "      <td>0</td>\n",
       "      <td>deceptive</td>\n",
       "    </tr>\n",
       "    <tr>\n",
       "      <th>2</th>\n",
       "      <td>trial_lie_003.mp4</td>\n",
       "      <td>1</td>\n",
       "      <td>0</td>\n",
       "      <td>0</td>\n",
       "      <td>0</td>\n",
       "      <td>0</td>\n",
       "      <td>1</td>\n",
       "      <td>0</td>\n",
       "      <td>0</td>\n",
       "      <td>1</td>\n",
       "      <td>...</td>\n",
       "      <td>0</td>\n",
       "      <td>0</td>\n",
       "      <td>0</td>\n",
       "      <td>0</td>\n",
       "      <td>1</td>\n",
       "      <td>0</td>\n",
       "      <td>0</td>\n",
       "      <td>0</td>\n",
       "      <td>0</td>\n",
       "      <td>deceptive</td>\n",
       "    </tr>\n",
       "    <tr>\n",
       "      <th>3</th>\n",
       "      <td>trial_lie_004.mp4</td>\n",
       "      <td>1</td>\n",
       "      <td>0</td>\n",
       "      <td>0</td>\n",
       "      <td>0</td>\n",
       "      <td>1</td>\n",
       "      <td>0</td>\n",
       "      <td>0</td>\n",
       "      <td>1</td>\n",
       "      <td>0</td>\n",
       "      <td>...</td>\n",
       "      <td>0</td>\n",
       "      <td>1</td>\n",
       "      <td>0</td>\n",
       "      <td>0</td>\n",
       "      <td>1</td>\n",
       "      <td>0</td>\n",
       "      <td>0</td>\n",
       "      <td>0</td>\n",
       "      <td>0</td>\n",
       "      <td>deceptive</td>\n",
       "    </tr>\n",
       "    <tr>\n",
       "      <th>4</th>\n",
       "      <td>trial_lie_005.mp4</td>\n",
       "      <td>1</td>\n",
       "      <td>0</td>\n",
       "      <td>0</td>\n",
       "      <td>0</td>\n",
       "      <td>0</td>\n",
       "      <td>1</td>\n",
       "      <td>0</td>\n",
       "      <td>1</td>\n",
       "      <td>0</td>\n",
       "      <td>...</td>\n",
       "      <td>0</td>\n",
       "      <td>0</td>\n",
       "      <td>1</td>\n",
       "      <td>0</td>\n",
       "      <td>0</td>\n",
       "      <td>0</td>\n",
       "      <td>0</td>\n",
       "      <td>0</td>\n",
       "      <td>0</td>\n",
       "      <td>deceptive</td>\n",
       "    </tr>\n",
       "  </tbody>\n",
       "</table>\n",
       "<p>5 rows × 41 columns</p>\n",
       "</div>"
      ],
      "text/plain": [
       "                  id  OtherGestures  Smile  Laugh  Scowl  \\\n",
       "0  trial_lie_001.mp4              1      0      0      0   \n",
       "1  trial_lie_002.mp4              1      0      0      0   \n",
       "2  trial_lie_003.mp4              1      0      0      0   \n",
       "3  trial_lie_004.mp4              1      0      0      0   \n",
       "4  trial_lie_005.mp4              1      0      0      0   \n",
       "\n",
       "   otherEyebrowMovement  Frown  Raise  OtherEyeMovements  Close-R  ...  \\\n",
       "0                     1      0      0                  1        0  ...   \n",
       "1                     0      1      0                  1        0  ...   \n",
       "2                     0      1      0                  0        1  ...   \n",
       "3                     1      0      0                  1        0  ...   \n",
       "4                     0      1      0                  1        0  ...   \n",
       "\n",
       "   forwardHead  downRHead  singleHand  bothHands  otherHandM  complexHandM  \\\n",
       "0            0          0           0          0           1             0   \n",
       "1            0          0           0          1           0             1   \n",
       "2            0          0           0          0           1             0   \n",
       "3            0          1           0          0           1             0   \n",
       "4            0          0           1          0           0             0   \n",
       "\n",
       "   sidewaysHand  downHands  upHands      class  \n",
       "0             0          0        0  deceptive  \n",
       "1             0          0        0  deceptive  \n",
       "2             0          0        0  deceptive  \n",
       "3             0          0        0  deceptive  \n",
       "4             0          0        0  deceptive  \n",
       "\n",
       "[5 rows x 41 columns]"
      ]
     },
     "execution_count": 2,
     "metadata": {},
     "output_type": "execute_result"
    }
   ],
   "source": [
    "micro_expressions = pandas.read_csv('All_Gestures_Deceptive and Truthful.csv')\n",
    "micro_expressions.head()"
   ]
  },
  {
   "cell_type": "code",
   "execution_count": 4,
   "metadata": {},
   "outputs": [
    {
     "name": "stdout",
     "output_type": "stream",
     "text": [
      "Micro expressions rows = 121\n",
      "Unique micro expressions = 105\n"
     ]
    }
   ],
   "source": [
    "micro_expressions_merged = micro_expressions.to_string(header=False, index=False, index_names=False).split('\\n')\n",
    "micro_expressions_classes = set()\n",
    "print(\"Micro expressions rows =\", len(micro_expressions_merged)) #121\n",
    "for micro_expression in micro_expressions_merged:\n",
    "    micro_expressions_classes.add(micro_expression[20:139].replace(\" \", \"\"))\n",
    "unique = len(micro_expressions_classes)\n",
    "print(\"Unique micro expressions =\", unique) #105"
   ]
  },
  {
   "cell_type": "code",
   "execution_count": 6,
   "metadata": {},
   "outputs": [],
   "source": [
    "micro_expressions_classes = sorted(micro_expressions_classes)\n",
    "micro_expressions_classes_np = np.asarray(micro_expressions_classes)\n",
    "with open('micro_expressions_classes.txt', 'w') as f:\n",
    "    f.write(np.array2string(micro_expressions_classes_np))"
   ]
  },
  {
   "cell_type": "markdown",
   "metadata": {},
   "source": [
    "<h4>Creating the labels for deceptive and truthful videos.\n",
    "    Label = index of the micro-expression in the numpy array which is written in the file. Then that index converted to be in one-hot encoding.</h4>"
   ]
  },
  {
   "cell_type": "code",
   "execution_count": 7,
   "metadata": {},
   "outputs": [],
   "source": [
    "deceptive_labels = []\n",
    "truthful_labels = []\n",
    "for row in micro_expressions_merged:\n",
    "    micro_string = row[20:139].replace(\" \", \"\")\n",
    "    if row[9] == 'l':  # deceptive\n",
    "        deceptive_labels.append(np.where(micro_expressions_classes_np == micro_string)[0][0])\n",
    "    else:\n",
    "        truthful_labels.append(np.where(micro_expressions_classes_np == micro_string)[0][0])"
   ]
  },
  {
   "cell_type": "code",
   "execution_count": 8,
   "metadata": {},
   "outputs": [],
   "source": [
    "deceptive_labels_onehot = tf.keras.utils.to_categorical(deceptive_labels, num_classes=unique)\n",
    "truthful_labels_onehot = tf.keras.utils.to_categorical(truthful_labels, num_classes=unique)"
   ]
  },
  {
   "cell_type": "code",
   "execution_count": 15,
   "metadata": {},
   "outputs": [],
   "source": [
    "np.save('Labels/deceptive_labels.npy', deceptive_labels_onehot)\n",
    "np.save('Labels/truthful_labels.npy', truthful_labels_onehot)"
   ]
  },
  {
   "cell_type": "code",
   "execution_count": 10,
   "metadata": {},
   "outputs": [
    {
     "data": {
      "text/plain": [
       "100"
      ]
     },
     "execution_count": 10,
     "metadata": {},
     "output_type": "execute_result"
    }
   ],
   "source": [
    "deceptive_labels[0]"
   ]
  },
  {
   "cell_type": "code",
   "execution_count": 11,
   "metadata": {},
   "outputs": [
    {
     "data": {
      "text/plain": [
       "100"
      ]
     },
     "execution_count": 11,
     "metadata": {},
     "output_type": "execute_result"
    }
   ],
   "source": [
    "np.argmax(deceptive_labels_onehot[0])"
   ]
  },
  {
   "cell_type": "code",
   "execution_count": 13,
   "metadata": {},
   "outputs": [
    {
     "data": {
      "text/plain": [
       "(61, 105)"
      ]
     },
     "execution_count": 13,
     "metadata": {},
     "output_type": "execute_result"
    }
   ],
   "source": [
    "deceptive_labels_onehot.shape"
   ]
  },
  {
   "cell_type": "code",
   "execution_count": 14,
   "metadata": {},
   "outputs": [
    {
     "data": {
      "text/plain": [
       "(60, 105)"
      ]
     },
     "execution_count": 14,
     "metadata": {},
     "output_type": "execute_result"
    }
   ],
   "source": [
    "truthful_labels_onehot.shape"
   ]
  },
  {
   "cell_type": "code",
   "execution_count": null,
   "metadata": {},
   "outputs": [],
   "source": []
  }
 ],
 "metadata": {
  "kernelspec": {
   "display_name": "Python 3",
   "language": "python",
   "name": "python3"
  },
  "language_info": {
   "codemirror_mode": {
    "name": "ipython",
    "version": 3
   },
   "file_extension": ".py",
   "mimetype": "text/x-python",
   "name": "python",
   "nbconvert_exporter": "python",
   "pygments_lexer": "ipython3",
   "version": "3.7.6"
  }
 },
 "nbformat": 4,
 "nbformat_minor": 4
}
