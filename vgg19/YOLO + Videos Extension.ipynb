{
 "cells": [
  {
   "cell_type": "markdown",
   "metadata": {
    "colab_type": "text",
    "id": "0t0dERaxvYZ0"
   },
   "source": [
    "<h2>Imports & variable declarations </h2>"
   ]
  },
  {
   "cell_type": "code",
   "execution_count": 15,
   "metadata": {
    "colab": {
     "base_uri": "https://localhost:8080/",
     "height": 517
    },
    "colab_type": "code",
    "id": "NjqWueWvvYZ7",
    "outputId": "cb51a4eb-bcd2-4e21-b09d-bd6459141786"
   },
   "outputs": [],
   "source": [
    "import glob\n",
    "import cv2\n",
    "import numpy as np\n",
    "import os\n",
    "import cvlib\n",
    "from os.path import isfile, join\n",
    "# from google.colab import files\n",
    "# from google.colab.patches import cv2_imshow"
   ]
  },
  {
   "cell_type": "code",
   "execution_count": 16,
   "metadata": {
    "colab": {
     "base_uri": "https://localhost:8080/",
     "height": 82,
     "resources": {
      "http://localhost:8080/nbextensions/google.colab/files.js": {
       "data": "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",
       "headers": [
        [
         "content-type",
         "application/javascript"
        ]
       ],
       "ok": true,
       "status": 200,
       "status_text": ""
      }
     }
    },
    "colab_type": "code",
    "id": "8ueH2e58vYad",
    "outputId": "06b041b8-9c18-455b-8256-9d198aad5b7d"
   },
   "outputs": [],
   "source": [
    "maximum_frames = 2443\n",
    "minimum_frames = 113\n",
    "video_path = \"Clips/\""
   ]
  },
  {
   "cell_type": "markdown",
   "metadata": {
    "colab_type": "text",
    "id": "YIwT_2WMvYar"
   },
   "source": [
    "<h2>Functions</h2>"
   ]
  },
  {
   "cell_type": "markdown",
   "metadata": {
    "colab_type": "text",
    "id": "NLOkeiC6vYau"
   },
   "source": [
    "<h4>I/O related functions.</h4>"
   ]
  },
  {
   "cell_type": "code",
   "execution_count": 74,
   "metadata": {
    "colab": {},
    "colab_type": "code",
    "id": "pO2w9BC_vYay"
   },
   "outputs": [],
   "source": [
    "def read_videos(path):\n",
    "    videos = []\n",
    "    videos_fps = []  # frames per second\n",
    "    videos_paths = glob.glob(path + '/*[0-9].mp4')\n",
    "    videos_paths.sort()\n",
    "    for video_path in videos_paths:\n",
    "        video = cv2.VideoCapture(video_path)\n",
    "        fps = video.get(cv2.CAP_PROP_FPS)\n",
    "        videos.append(video)\n",
    "        videos_fps.append(fps)\n",
    "    return videos, videos_fps"
   ]
  },
  {
   "cell_type": "code",
   "execution_count": 18,
   "metadata": {
    "colab": {},
    "colab_type": "code",
    "id": "DuKr9VKwvYba"
   },
   "outputs": [],
   "source": [
    "def read():\n",
    "    path = 'Clips'\n",
    "    truthful_videos, truth_videos_fps = read_videos(path + '/Truthful')\n",
    "    deceptive_videos, deceptive_videos_fps = read_videos(path + '/Deceptive')\n",
    "    return truthful_videos, truth_videos_fps, deceptive_videos, deceptive_videos_fps"
   ]
  },
  {
   "cell_type": "code",
   "execution_count": 19,
   "metadata": {
    "colab": {},
    "colab_type": "code",
    "id": "ubCEgayRvYbm"
   },
   "outputs": [],
   "source": [
    "def get_video_frames(video):\n",
    "    frames = []\n",
    "    width = video.get(3)\n",
    "    height = video.get(4)\n",
    "    success, frame = video.read()\n",
    "    while success:\n",
    "        frames.append(frame)\n",
    "        success, frame = video.read()\n",
    "    return frames, width, height"
   ]
  },
  {
   "cell_type": "markdown",
   "metadata": {
    "colab_type": "text",
    "id": "bCuY4VFTvYb5"
   },
   "source": [
    "<h4>YOLO-related functions, for extracting the region of interest (person).</h4>"
   ]
  },
  {
   "cell_type": "markdown",
   "metadata": {
    "colab_type": "text",
    "id": "HBk_iMcCvYb9"
   },
   "source": [
    "This function returns a list containing the bounding boxes of each frame in one video.\n",
    "If more than one bounding box are found in one frame, the bouding boxes are merged to obtain one bounding box."
   ]
  },
  {
   "cell_type": "code",
   "execution_count": 80,
   "metadata": {
    "colab": {},
    "colab_type": "code",
    "id": "QEjGrE8DvYcX"
   },
   "outputs": [],
   "source": [
    "def yolo(frames):\n",
    "    # frames = get_video_frames(video)\n",
    "    bounding_boxes = []\n",
    "    # print('start')\n",
    "    for frame in frames:\n",
    "        bboxes, label, confidence = cvlib.detect_common_objects(frame)\n",
    "        bboxes_person = []\n",
    "        for bbox, label in zip(bboxes, label):\n",
    "            if label == 'person':\n",
    "                bboxes_person.append(bbox)\n",
    "        if len(bboxes_person) == 0:\n",
    "            continue\n",
    "        x_top_left = bboxes_person[0][0]\n",
    "        y_top_left = bboxes_person[0][1]\n",
    "        x_bottom_right = bboxes_person[0][2]\n",
    "        y_bottom_right = bboxes_person[0][3]\n",
    "        for i in range(1, len(bboxes_person)): # if more than one bbox, merge them\n",
    "            x_top_left = min(x_top_left, bboxes_person[i][0])\n",
    "            y_top_left = min(y_top_left, bboxes_person[i][1])\n",
    "            x_bottom_right = max(x_bottom_right, bboxes_person[i][2])\n",
    "            y_bottom_right = max(y_bottom_right, bboxes_person[i][3])\n",
    "    bbox = [x_top_left, y_top_left, x_bottom_right, y_bottom_right]\n",
    "    bounding_boxes.append(bbox)\n",
    "    return bounding_boxes"
   ]
  },
  {
   "cell_type": "markdown",
   "metadata": {
    "colab_type": "text",
    "id": "PXUsyUlQvYct"
   },
   "source": [
    "This function finds the bounding box with the largest area for one video."
   ]
  },
  {
   "cell_type": "code",
   "execution_count": 21,
   "metadata": {
    "colab": {},
    "colab_type": "code",
    "id": "5a62dwD3vYc1"
   },
   "outputs": [],
   "source": [
    "def get_max_bounding_box(bounding_boxes):\n",
    "    max_bbox = []\n",
    "    max_bbox_area = -1\n",
    "    '''min_bbox = []\n",
    "    min_bbox_area = 1000000000000000'''\n",
    "    for bbox in bounding_boxes:\n",
    "        width = bbox[2] - bbox[0]\n",
    "        height = bbox[3] - bbox[1]\n",
    "        bbox_area = width * height\n",
    "        if bbox_area > max_bbox_area:\n",
    "            max_bbox_area = bbox_area\n",
    "            max_bbox = bbox\n",
    "        '''if bbox_area < min_bbox_area:\n",
    "            min_bbox_area = bbox_area\n",
    "            min_bbox = bbox'''\n",
    "    return max_bbox #, max_bbox_area, min_bbox, min_bbox_area"
   ]
  },
  {
   "cell_type": "markdown",
   "metadata": {
    "colab_type": "text",
    "id": "5yuPb-HwvYdH"
   },
   "source": [
    "This function crops a video according to the given bounding box and returns the cropped frames."
   ]
  },
  {
   "cell_type": "code",
   "execution_count": 22,
   "metadata": {
    "colab": {},
    "colab_type": "code",
    "id": "32Itl3WWvYdL"
   },
   "outputs": [],
   "source": [
    "def crop_video(frames, width, height, bounding_box):\n",
    "    x_top_left = int(max(0, bounding_box[0] - 5))\n",
    "    y_top_left = int(max(0, bounding_box[1] - 5))\n",
    "    x_bottom_right = int(min(width - 1, bounding_box[2] + 5)) # video.get(3) = width\n",
    "    y_bottom_right = int(min(height - 1, bounding_box[3] + 5)) # video.get(4) = height\n",
    "    # frames = get_video_frames(video)\n",
    "    cropped_frames = []\n",
    "    for frame in frames:\n",
    "        cropped_frame = frame[y_top_left:y_bottom_right, x_top_left:x_bottom_right]\n",
    "        cropped_frames.append(cropped_frame)\n",
    "        cv2.imshow('cropped frame', cropped_frame)\n",
    "        cv2.waitKey()\n",
    "    return cropped_frames"
   ]
  },
  {
   "cell_type": "markdown",
   "metadata": {
    "colab_type": "text",
    "id": "saKuZt57vYdb"
   },
   "source": [
    "YOLO Main function."
   ]
  },
  {
   "cell_type": "code",
   "execution_count": 79,
   "metadata": {
    "colab": {},
    "colab_type": "code",
    "id": "ikbJddLdvYdf"
   },
   "outputs": [],
   "source": [
    "def yolo_main(videos):\n",
    "    cropped_frames_per_video = []\n",
    "    for video in videos:\n",
    "        frames, width, height = get_video_frames(video)\n",
    "        frames = frames[:1] # COMMENT THIS LINE AFTER TESTING\n",
    "        bboxes = yolo(frames)\n",
    "        max_bbox = get_max_bounding_box(bboxes)\n",
    "        cropped_frames = crop_video(frames, width, height, max_bbox)\n",
    "        cropped_frames_per_video.append(cropped_frames)\n",
    "    return cropped_frames_per_video"
   ]
  },
  {
   "cell_type": "markdown",
   "metadata": {
    "colab_type": "text",
    "id": "6utYNMIxvYdk"
   },
   "source": [
    "<h4>Video extension with noise related functions.</h4>"
   ]
  },
  {
   "cell_type": "code",
   "execution_count": 71,
   "metadata": {
    "colab": {},
    "colab_type": "code",
    "id": "GiggCQ6IvYdk"
   },
   "outputs": [],
   "source": [
    "def add_frames_with_noise(frames_per_video):\n",
    "    extended_frames_per_video = []\n",
    "    for frames in frames_per_video:\n",
    "        if len(frames) < maximum_frames:\n",
    "            extended_frames = extend_video_with_noise(frames)\n",
    "            extended_frames_per_video.append(extended_frames)\n",
    "        else:\n",
    "            extended_frames_per_video.append(frames)\n",
    "    return extended_frames_per_video"
   ]
  },
  {
   "cell_type": "code",
   "execution_count": 25,
   "metadata": {
    "colab": {},
    "colab_type": "code",
    "id": "_FvPwA4lvYeN"
   },
   "outputs": [],
   "source": [
    "def extend_video_with_noise(frames):\n",
    "    original_frames = frames\n",
    "    \n",
    "    if len(original_frames) == 0:\n",
    "        return frames\n",
    "    \n",
    "    frames_with_noise = add_noise_to_frames(original_frames)\n",
    "    \n",
    "    final_frames = original_frames\n",
    "    repeat_frames = maximum_frames // len(original_frames)\n",
    "    i = 0\n",
    "    while i in range(repeat_frames - 1):\n",
    "        final_frames.extend(frames_with_noise)\n",
    "        i += 1\n",
    "    i = 0\n",
    "    if len(final_frames) < maximum_frames:\n",
    "        while len(final_frames) < maximum_frames and i < len(frames_with_noise):\n",
    "            final_frames.append(frames_with_noise[i])\n",
    "            i += 1\n",
    "    return final_frames"
   ]
  },
  {
   "cell_type": "code",
   "execution_count": 26,
   "metadata": {
    "colab": {},
    "colab_type": "code",
    "id": "00j9NIXcvYeS"
   },
   "outputs": [],
   "source": [
    "def add_noise_to_frames(frames):\n",
    "    noisy_frames = []\n",
    "    for frame in frames:\n",
    "        noisy_frames.append(add_noise_to_frame(frame))\n",
    "    return noisy_frames"
   ]
  },
  {
   "cell_type": "code",
   "execution_count": 43,
   "metadata": {
    "colab": {},
    "colab_type": "code",
    "id": "dLwd27TPvYeh"
   },
   "outputs": [],
   "source": [
    "def add_noise_to_frame(frame):\n",
    "    mean = 0\n",
    "    var = 20\n",
    "    sigma = var ** 0.5\n",
    "    #frame = resize_frame(frame)\n",
    "    height, width, _ = frame.shape\n",
    "    gaussian = np.random.normal(mean, sigma, (height, width)) #  np.zeros((224, 224), np.float32)\n",
    "    noisy_image = np.zeros(frame.shape, np.float32)\n",
    "\n",
    "    if len(frame.shape) == 2:\n",
    "        noisy_image = img + gaussian\n",
    "    else:\n",
    "        noisy_image[:, :, 0] = frame[:, :, 0] + gaussian\n",
    "        noisy_image[:, :, 1] = frame[:, :, 1] + gaussian\n",
    "        noisy_image[:, :, 2] = frame[:, :, 2] + gaussian\n",
    "\n",
    "    cv2.normalize(noisy_image, noisy_image, 0, 255, cv2.NORM_MINMAX, dtype=-1)\n",
    "    noisy_frame = noisy_image.astype(np.uint8)\n",
    "    \n",
    "    cv2.imshow(\"img\", frame)\n",
    "    cv2.imshow(\"noise\", noisy_frame)\n",
    "    cv2.waitKey(0)\n",
    "\n",
    "    return noisy_frame"
   ]
  },
  {
   "cell_type": "code",
   "execution_count": 68,
   "metadata": {
    "colab": {},
    "colab_type": "code",
    "id": "KIlcqUNYvYez"
   },
   "outputs": [],
   "source": [
    "def convert_frames_to_videos(path, videos_frames, frames_per_second):\n",
    "    videos = []\n",
    "    for i, video_frames, fps in zip(range(1,len(videos_frames)+1), videos_frames, frames_per_second):\n",
    "        video = create_video(path + \"/{}.mp4\".format(i), video_frames, fps)\n",
    "        videos.append(video)\n",
    "    return videos "
   ]
  },
  {
   "cell_type": "code",
   "execution_count": 70,
   "metadata": {
    "colab": {},
    "colab_type": "code",
    "id": "9IOh-834vYe9"
   },
   "outputs": [],
   "source": [
    "def create_video(pathOut, frames, fps):\n",
    "    frame_array = []\n",
    "    for i in range(len(frames)):\n",
    "        height, width, layers = frames[i].shape\n",
    "        size = (width,height)\n",
    "        #inserting the frames into an image array\n",
    "        frame_array.append(frames[i])\n",
    "\n",
    "    out = cv2.VideoWriter(pathOut,cv2.VideoWriter_fourcc(*'DIVX'), fps, size)\n",
    "\n",
    "    for i in range(len(frame_array)):\n",
    "        out.write(frame_array[i])\n",
    "    out.release()\n",
    "    # return what? out?"
   ]
  },
  {
   "cell_type": "markdown",
   "metadata": {
    "colab_type": "text",
    "id": "lSkazq8uvYfD"
   },
   "source": [
    "<h2>Main</h2>"
   ]
  },
  {
   "cell_type": "code",
   "execution_count": 82,
   "metadata": {
    "colab": {
     "base_uri": "https://localhost:8080/",
     "height": 57
    },
    "colab_type": "code",
    "id": "RNtEdZ-svYfE",
    "outputId": "2699eea6-927f-4a84-9c06-3d223bd840e2"
   },
   "outputs": [],
   "source": [
    "truthful_videos, truth_videos_fps, deceptive_videos, deceptive_videos_fps = read()"
   ]
  },
  {
   "cell_type": "code",
   "execution_count": 83,
   "metadata": {
    "colab": {
     "base_uri": "https://localhost:8080/",
     "height": 1000
    },
    "colab_type": "code",
    "id": "y0jKWo77vYfR",
    "outputId": "1144c1d5-8345-4e79-e232-86c0bd692081"
   },
   "outputs": [],
   "source": [
    "cropped_truthful_frames_per_video = yolo_main(truthful_videos)\n",
    "cropped_deceptive_frames_per_video = yolo_main(deceptive_videos)"
   ]
  },
  {
   "cell_type": "code",
   "execution_count": 77,
   "metadata": {
    "colab": {},
    "colab_type": "code",
    "id": "yA2gLJMyvYfm"
   },
   "outputs": [],
   "source": [
    "truthful_videos_frames = add_frames_with_noise(cropped_truthful_frames_per_video)\n",
    "deceptive_videos_frames = add_frames_with_noise(cropped_deceptive_frames_per_video)"
   ]
  },
  {
   "cell_type": "code",
   "execution_count": 78,
   "metadata": {
    "colab": {},
    "colab_type": "code",
    "id": "yS1zpLQQvYfo"
   },
   "outputs": [],
   "source": [
    "truthful_videos_extended = convert_frames_to_videos(video_path + \"Truthful-noise\", truthful_videos_frames, truth_videos_fps)\n",
    "deceptive_videos_extended = convert_frames_to_videos(video_path + \"Deceptive-noise\", deceptive_videos_frames, deceptive_videos_fps)"
   ]
  },
  {
   "cell_type": "code",
   "execution_count": null,
   "metadata": {},
   "outputs": [],
   "source": []
  }
 ],
 "metadata": {
  "accelerator": "GPU",
  "colab": {
   "name": "Extend_dataset.ipynb",
   "provenance": []
  },
  "kernelspec": {
   "display_name": "Python 3",
   "language": "python",
   "name": "python3"
  },
  "language_info": {
   "codemirror_mode": {
    "name": "ipython",
    "version": 3
   },
   "file_extension": ".py",
   "mimetype": "text/x-python",
   "name": "python",
   "nbconvert_exporter": "python",
   "pygments_lexer": "ipython3",
   "version": "3.7.6"
  }
 },
 "nbformat": 4,
 "nbformat_minor": 1
}
