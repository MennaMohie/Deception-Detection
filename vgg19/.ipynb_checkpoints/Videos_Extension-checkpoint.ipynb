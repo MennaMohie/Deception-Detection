{
 "cells": [
  {
   "cell_type": "markdown",
   "metadata": {
    "colab_type": "text",
    "id": "MhLrJiTEljGU"
   },
   "source": [
    "## Imports & variable declarations"
   ]
  },
  {
   "cell_type": "code",
   "execution_count": 0,
   "metadata": {
    "colab": {},
    "colab_type": "code",
    "id": "gQPuDF7YljGW"
   },
   "outputs": [],
   "source": [
    "from tqdm import tqdm\n",
    "import glob\n",
    "import cv2\n",
    "import numpy as np\n",
    "import os\n",
    "from os.path import isfile, join"
   ]
  },
  {
   "cell_type": "code",
   "execution_count": 0,
   "metadata": {
    "colab": {},
    "colab_type": "code",
    "id": "rmHzx0RXljGa"
   },
   "outputs": [],
   "source": [
    "from google.colab import drive\n",
    "drive.mount('/content/gdrive')"
   ]
  },
  {
   "cell_type": "code",
   "execution_count": 0,
   "metadata": {
    "colab": {},
    "colab_type": "code",
    "id": "TCPLchRZljGe"
   },
   "outputs": [],
   "source": [
    "maximum_frames = 1440\n",
    "train_path = '/content/gdrive/My Drive/Team\\'s Drive/Graduation Project/Dataset(Train-Test)/train'\n",
    "test_path = '/content/gdrive/My Drive/Team\\'s Drive/Graduation Project/Dataset(Train-Test)/test'"
   ]
  },
  {
   "cell_type": "markdown",
   "metadata": {
    "colab_type": "text",
    "id": "wqZdTvKTljGh"
   },
   "source": [
    "## I/O related functions."
   ]
  },
  {
   "cell_type": "code",
   "execution_count": 0,
   "metadata": {
    "colab": {},
    "colab_type": "code",
    "id": "1KAcOyrNljGi"
   },
   "outputs": [],
   "source": [
    "def get_inner_paths(path):\n",
    "    inner_paths = glob.glob(path + '/*')\n",
    "    inner_paths.sort()\n",
    "    inner_names = [os.path.basename(inner_path) for inner_path in inner_paths]\n",
    "    return inner_paths, inner_names"
   ]
  },
  {
   "cell_type": "code",
   "execution_count": 0,
   "metadata": {
    "colab": {},
    "colab_type": "code",
    "id": "NBlgbLizljGl"
   },
   "outputs": [],
   "source": [
    "def get_frames(video_path):\n",
    "    frame_paths, _ = get_inner_paths(video_path)\n",
    "    frames = [cv2.imread(frame_path) for frame_path in frame_paths]\n",
    "    return frames"
   ]
  },
  {
   "cell_type": "markdown",
   "metadata": {
    "colab_type": "text",
    "id": "zJqD8Xs8ljGo"
   },
   "source": [
    "## Video extension with noise related functions."
   ]
  },
  {
   "cell_type": "code",
   "execution_count": 0,
   "metadata": {
    "colab": {},
    "colab_type": "code",
    "id": "RFE-FoZJljGp"
   },
   "outputs": [],
   "source": [
    "def add_frames_with_noise(frames):\n",
    "    print('\\nNumber of frames: ', len(frames))\n",
    "    if len(frames) < maximum_frames:\n",
    "        new_frames = extend_video_with_noise(frames)\n",
    "    elif len(frames) > maximum_frames:\n",
    "        new_frames = shrink_video(frames)\n",
    "    else:\n",
    "        new_frames = frames\n",
    "    print(\"New number of frames: \", len(new_frames))\n",
    "    return new_frames"
   ]
  },
  {
   "cell_type": "code",
   "execution_count": 0,
   "metadata": {
    "colab": {},
    "colab_type": "code",
    "id": "9DhdT1XBljGs"
   },
   "outputs": [],
   "source": [
    "def shrink_video(frames):\n",
    "    extra_frames_no = len(frames) - maximum_frames \n",
    "    \n",
    "    if extra_frames_no < 1:\n",
    "        return frames\n",
    "    \n",
    "    skipping_rate = maximum_frames // extra_frames_no + 1\n",
    "    \n",
    "    shrunken_video_frames = []\n",
    "    skipped_frames = []\n",
    "    print('In shrink_video')\n",
    "    for frame_index in range(len(frames)):\n",
    "        frame = frames[frame_index]\n",
    "        if len(shrunken_video_frames) == maximum_frames:\n",
    "            break\n",
    "        if frame_index % skipping_rate == 0:\n",
    "            skipped_frames.append(frame)\n",
    "            continue\n",
    "        shrunken_video_frames.append(frame)\n",
    "    index = skipping_rate\n",
    "    while len(shrunken_video_frames) < 1440:\n",
    "        shrunken_video_frames.insert(index, frames[index])\n",
    "        index += skipping_rate\n",
    "    return shrunken_video_frames"
   ]
  },
  {
   "cell_type": "code",
   "execution_count": 0,
   "metadata": {
    "colab": {},
    "colab_type": "code",
    "id": "FWkHS7JjljGw"
   },
   "outputs": [],
   "source": [
    "def extend_video_with_noise(frames):\n",
    "    original_frames = frames\n",
    "    \n",
    "    if len(original_frames) == 0:\n",
    "        return frames\n",
    "    \n",
    "    frames_with_noise = add_noise_to_frames(original_frames)\n",
    "    \n",
    "    final_frames = original_frames\n",
    "    repeat_frames = maximum_frames // len(original_frames)\n",
    "    i = 0\n",
    "    while i in range(repeat_frames - 1):\n",
    "        final_frames.extend(frames_with_noise)\n",
    "        i += 1\n",
    "    i = 0\n",
    "    if len(final_frames) < maximum_frames:\n",
    "        while len(final_frames) < maximum_frames and i < len(frames_with_noise):\n",
    "            final_frames.append(frames_with_noise[i])\n",
    "            i += 1\n",
    "    return final_frames"
   ]
  },
  {
   "cell_type": "code",
   "execution_count": 0,
   "metadata": {
    "colab": {},
    "colab_type": "code",
    "id": "5rKEB5b1ljGz"
   },
   "outputs": [],
   "source": [
    "def add_noise_to_frames(frames):\n",
    "    noisy_frames = []\n",
    "    for frame in frames:\n",
    "        noisy_frames.append(add_noise_to_frame(frame))\n",
    "    return noisy_frames"
   ]
  },
  {
   "cell_type": "code",
   "execution_count": 0,
   "metadata": {
    "colab": {},
    "colab_type": "code",
    "id": "hwXLzyD3ljG2"
   },
   "outputs": [],
   "source": [
    "def add_noise_to_frame(frame):\n",
    "    mean = 0\n",
    "    var = 20\n",
    "    sigma = var ** 0.5\n",
    "    #frame = resize_frame(frame)\n",
    "    height, width, _ = frame.shape\n",
    "    gaussian = np.random.normal(mean, sigma, (height, width)) #  np.zeros((224, 224), np.float32)\n",
    "    noisy_image = np.zeros(frame.shape, np.float32)\n",
    "\n",
    "    if len(frame.shape) == 2:\n",
    "        noisy_image = img + gaussian\n",
    "    else:\n",
    "        noisy_image[:, :, 0] = frame[:, :, 0] + gaussian\n",
    "        noisy_image[:, :, 1] = frame[:, :, 1] + gaussian\n",
    "        noisy_image[:, :, 2] = frame[:, :, 2] + gaussian\n",
    "\n",
    "    cv2.normalize(noisy_image, noisy_image, 0, 255, cv2.NORM_MINMAX, dtype=-1)\n",
    "    noisy_frame = noisy_image.astype(np.uint8)\n",
    "    \n",
    "    #cv2.imshow(\"img\", frame)\n",
    "    #cv2.imshow(\"noise\", noisy_frame)\n",
    "    #cv2.waitKey(0)\n",
    "\n",
    "    return noisy_frame"
   ]
  },
  {
   "cell_type": "code",
   "execution_count": 0,
   "metadata": {
    "colab": {},
    "colab_type": "code",
    "id": "Ld4aD5VlljG4"
   },
   "outputs": [],
   "source": [
    "def save_frames(path, frames):\n",
    "    os.mkdir(path)\n",
    "    for frame_index in range(len(frames)):\n",
    "        frame_path = path + '/' + str(frame_index).zfill(4) + '.jpg'\n",
    "        cv2.imwrite(frame_path, frames[frame_index])\n",
    "    return"
   ]
  },
  {
   "cell_type": "markdown",
   "metadata": {
    "colab_type": "text",
    "id": "IP7OeqsEljG8"
   },
   "source": [
    "## Main"
   ]
  },
  {
   "cell_type": "code",
   "execution_count": 0,
   "metadata": {
    "colab": {},
    "colab_type": "code",
    "id": "JMOSoq-TljG9"
   },
   "outputs": [],
   "source": [
    "def main(path, save_path):\n",
    "    video_paths, video_names = get_inner_paths(path)\n",
    "    _, done_names = get_inner_paths('/content/gdrive/My Drive/Team\\'s Drive/Graduation Project/Dataset_VGG/train')\n",
    "    for video_path, video_name in zip(video_paths, video_names):\n",
    "        if video_name in done_names:\n",
    "            continue\n",
    "        print(video_path)\n",
    "        frames = get_frames(video_path)\n",
    "        new_frames = add_frames_with_noise(frames)\n",
    "        save_frames(save_path + '/' + video_name, new_frames)\n",
    "    return"
   ]
  },
  {
   "cell_type": "code",
   "execution_count": 0,
   "metadata": {
    "colab": {},
    "colab_type": "code",
    "id": "95rXdquGlnye"
   },
   "outputs": [],
   "source": [
    "os.mkdir('/content/train')\n",
    "main(train_path, '/content/train')"
   ]
  },
  {
   "cell_type": "code",
   "execution_count": 0,
   "metadata": {
    "colab": {},
    "colab_type": "code",
    "id": "fqmwBTTCqDP-"
   },
   "outputs": [],
   "source": [
    "!cp -r /content/train /content/gdrive/\"My Drive\"/\"Team's Drive\"/\"Graduation Project\"/Dataset_VGG"
   ]
  },
  {
   "cell_type": "code",
   "execution_count": 0,
   "metadata": {
    "colab": {},
    "colab_type": "code",
    "id": "HvviOeWj65qK"
   },
   "outputs": [],
   "source": [
    "os.mkdir('/content/test')\n",
    "main(test_path, '/content/test')"
   ]
  },
  {
   "cell_type": "code",
   "execution_count": 0,
   "metadata": {
    "colab": {},
    "colab_type": "code",
    "id": "zY7t7fuX68zm"
   },
   "outputs": [],
   "source": [
    "!cp -r /content/test /content/gdrive/\"My Drive\"/\"Team's Drive\"/\"Graduation Project\"/Dataset_VGG"
   ]
  },
  {
   "cell_type": "markdown",
   "metadata": {
    "colab_type": "text",
    "id": "PGeV1vXvAufv"
   },
   "source": [
    "# Validation"
   ]
  },
  {
   "cell_type": "code",
   "execution_count": 0,
   "metadata": {
    "colab": {},
    "colab_type": "code",
    "id": "jnKS77_JBF6X"
   },
   "outputs": [],
   "source": [
    "def validate_number_of_frames(path):\n",
    "    videos_paths, _ = get_inner_paths(path)\n",
    "    error_paths = []\n",
    "    for video_path in videos_paths:\n",
    "        frames, _ = get_inner_paths(video_path)\n",
    "        if len(frames) != maximum_frames:\n",
    "            # print(video_path, ' ', len(frames))\n",
    "            error_paths.append(video_path)\n",
    "    return len(videos_paths), error_paths"
   ]
  },
  {
   "cell_type": "code",
   "execution_count": 17,
   "metadata": {
    "colab": {
     "base_uri": "https://localhost:8080/",
     "height": 67
    },
    "colab_type": "code",
    "id": "dgSLGeuaAr_b",
    "outputId": "4c778297-f6be-40ac-9a70-9b65c57aca76"
   },
   "outputs": [
    {
     "name": "stdout",
     "output_type": "stream",
     "text": [
      "Number of train videos:  96\n",
      "Number of train videos with wrong number of frames:  0\n"
     ]
    }
   ],
   "source": [
    "number_of_train_vids, error_paths = validate_number_of_frames('/content/gdrive/My Drive/Team\\'s Drive/Graduation Project/Dataset_VGG/train')\n",
    "print('Number of train videos: ', number_of_train_vids)\n",
    "print('Number of train videos with wrong number of frames: ', len(error_paths))\n",
    "if len(error_paths) != 0:\n",
    "    print('Error paths: ', error_paths)"
   ]
  },
  {
   "cell_type": "code",
   "execution_count": 24,
   "metadata": {
    "colab": {
     "base_uri": "https://localhost:8080/",
     "height": 67
    },
    "colab_type": "code",
    "id": "JzLhfQCzwSe9",
    "outputId": "fa464d40-2ddd-4c5f-f3c4-2c6471ffcded"
   },
   "outputs": [
    {
     "name": "stdout",
     "output_type": "stream",
     "text": [
      "Number of test videos:  25\n",
      "Number of test videos with wrong number of frames:  0\n"
     ]
    }
   ],
   "source": [
    "number_of_test_vids, error_paths = validate_number_of_frames('/content/gdrive/My Drive/Team\\'s Drive/Graduation Project/Dataset_VGG/test')\n",
    "print('Number of test videos: ', number_of_test_vids)\n",
    "print('Number of test videos with wrong number of frames: ', len(error_paths))\n",
    "if len(error_paths) != 0:\n",
    "    print('Error paths: ', error_paths)"
   ]
  },
  {
   "cell_type": "code",
   "execution_count": 0,
   "metadata": {
    "colab": {},
    "colab_type": "code",
    "id": "r6blnS6SQJ6_"
   },
   "outputs": [],
   "source": []
  }
 ],
 "metadata": {
  "colab": {
   "collapsed_sections": [],
   "name": "Videos Extension.ipynb",
   "provenance": [],
   "toc_visible": true
  },
  "kernelspec": {
   "display_name": "Python 3",
   "language": "python",
   "name": "python3"
  },
  "language_info": {
   "codemirror_mode": {
    "name": "ipython",
    "version": 3
   },
   "file_extension": ".py",
   "mimetype": "text/x-python",
   "name": "python",
   "nbconvert_exporter": "python",
   "pygments_lexer": "ipython3",
   "version": "3.6.10"
  }
 },
 "nbformat": 4,
 "nbformat_minor": 1
}
