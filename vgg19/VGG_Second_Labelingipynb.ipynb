{
  "nbformat": 4,
  "nbformat_minor": 0,
  "metadata": {
    "colab": {
      "name": "VGG Second Labelingipynb",
      "provenance": [],
      "collapsed_sections": []
    },
    "kernelspec": {
      "name": "python3",
      "display_name": "Python 3"
    }
  },
  "cells": [
    {
      "cell_type": "code",
      "metadata": {
        "id": "mo9HH-BRqhKu",
        "colab_type": "code",
        "colab": {}
      },
      "source": [
        "import glob\n",
        "import os\n",
        "import numpy as np"
      ],
      "execution_count": 0,
      "outputs": []
    },
    {
      "cell_type": "code",
      "metadata": {
        "id": "9fUSAmEGs297",
        "colab_type": "code",
        "colab": {}
      },
      "source": [
        "dataset_path = '/content/gdrive/My Drive/Team\\'s Drive/Graduation Project/Dataset_VGG'\n",
        "train_path = '/content/gdrive/My Drive/Team\\'s Drive/Graduation Project/Dataset_VGG/train'\n",
        "test_path = '/content/gdrive/My Drive/Team\\'s Drive/Graduation Project/Dataset_VGG/test'\n",
        "labels_path = '/content/gdrive/My Drive/Team\\'s Drive/Graduation Project/VGG_Initial_Labels'"
      ],
      "execution_count": 0,
      "outputs": []
    },
    {
      "cell_type": "code",
      "metadata": {
        "id": "OFfgqkMnrGqd",
        "colab_type": "code",
        "outputId": "f289a6b0-f783-4c4a-e39a-6ec02248a8bd",
        "colab": {
          "base_uri": "https://localhost:8080/",
          "height": 162
        }
      },
      "source": [
        "from google.colab import drive\n",
        "drive.mount('/content/gdrive')"
      ],
      "execution_count": 0,
      "outputs": [
        {
          "output_type": "stream",
          "text": [
            "Go to this URL in a browser: https://accounts.google.com/o/oauth2/auth?client_id=947318989803-6bn6qk8qdgf4n4g3pfee6491hc0brc4i.apps.googleusercontent.com&redirect_uri=urn%3aietf%3awg%3aoauth%3a2.0%3aoob&response_type=code&scope=email%20https%3a%2f%2fwww.googleapis.com%2fauth%2fdocs.test%20https%3a%2f%2fwww.googleapis.com%2fauth%2fdrive%20https%3a%2f%2fwww.googleapis.com%2fauth%2fdrive.photos.readonly%20https%3a%2f%2fwww.googleapis.com%2fauth%2fpeopleapi.readonly\n",
            "\n",
            "Enter your authorization code:\n",
            "··········\n",
            "Mounted at /content/gdrive\n"
          ],
          "name": "stdout"
        }
      ]
    },
    {
      "cell_type": "code",
      "metadata": {
        "id": "FDCXoVInrZWx",
        "colab_type": "code",
        "colab": {}
      },
      "source": [
        "def get_inner_paths(path):\n",
        "    inner_paths = glob.glob(path + '/*')\n",
        "    inner_paths.sort()\n",
        "    inner_names = [os.path.basename(inner_path) for inner_path in inner_paths]\n",
        "    return inner_paths, inner_names"
      ],
      "execution_count": 0,
      "outputs": []
    },
    {
      "cell_type": "code",
      "metadata": {
        "id": "qZKz4or6sHd7",
        "colab_type": "code",
        "colab": {}
      },
      "source": [
        "truthful_labels = np.load(labels_path + '/truthful_labels.npy')\n",
        "deceptive_labels = np.load(labels_path + '/deceptive_labels.npy')"
      ],
      "execution_count": 0,
      "outputs": []
    },
    {
      "cell_type": "code",
      "metadata": {
        "id": "Vl4jwzzLtAmh",
        "colab_type": "code",
        "colab": {}
      },
      "source": [
        "def get_new_labels(path):\n",
        "    _, video_names = get_inner_paths(path)\n",
        "    labels = []\n",
        "    # video_name examples: trial_lie030 | trial_truth007\n",
        "    for video_name in video_names:\n",
        "        if video_name[6] == 't':  # truthful video\n",
        "            video_num = int(video_name[11:]) - 1\n",
        "            labels.append(truthful_labels[video_num])\n",
        "        else:\n",
        "            video_num = int(video_name[9:]) - 1\n",
        "            labels.append(deceptive_labels[video_num])\n",
        "    return labels"
      ],
      "execution_count": 0,
      "outputs": []
    },
    {
      "cell_type": "code",
      "metadata": {
        "id": "yPGbbwFUu30o",
        "colab_type": "code",
        "colab": {}
      },
      "source": [
        "train_labels = get_new_labels(train_path)\n",
        "np.save(dataset_path + '/train_labels.npy', np.asarray(train_labels))"
      ],
      "execution_count": 0,
      "outputs": []
    },
    {
      "cell_type": "code",
      "metadata": {
        "id": "6yK5qqfVl9JX",
        "colab_type": "code",
        "colab": {}
      },
      "source": [
        "test_labels = get_new_labels(test_path)\n",
        "np.save(dataset_path + '/test_labels.npy', np.asarray(test_labels))"
      ],
      "execution_count": 0,
      "outputs": []
    },
    {
      "cell_type": "code",
      "metadata": {
        "id": "_JSPLE8TTPEK",
        "colab_type": "code",
        "colab": {}
      },
      "source": [
        ""
      ],
      "execution_count": 0,
      "outputs": []
    }
  ]
}