{
  "nbformat": 4,
  "nbformat_minor": 0,
  "metadata": {
    "kernelspec": {
      "display_name": "Python 3",
      "language": "python",
      "name": "python3"
    },
    "language_info": {
      "codemirror_mode": {
        "name": "ipython",
        "version": 3
      },
      "file_extension": ".py",
      "mimetype": "text/x-python",
      "name": "python",
      "nbconvert_exporter": "python",
      "pygments_lexer": "ipython3",
      "version": "3.7.6"
    },
    "colab": {
      "name": "3D CNN Post-YOLO Preprocessing .ipynb",
      "provenance": [],
      "collapsed_sections": [],
      "toc_visible": true
    }
  },
  "cells": [
    {
      "cell_type": "markdown",
      "metadata": {
        "id": "I9g8MYS4jIXa",
        "colab_type": "text"
      },
      "source": [
        "# Dividing each video into equal-sized subclips (same number of frames)."
      ]
    },
    {
      "cell_type": "markdown",
      "metadata": {
        "id": "3nOsWdVEjIXc",
        "colab_type": "text"
      },
      "source": [
        "<h2>Imports and constants.</h2>"
      ]
    },
    {
      "cell_type": "code",
      "metadata": {
        "id": "Xv9aSpbMjIXd",
        "colab_type": "code",
        "colab": {}
      },
      "source": [
        "import cv2\n",
        "import glob\n",
        "import os\n",
        "from tqdm import tqdm"
      ],
      "execution_count": 0,
      "outputs": []
    },
    {
      "cell_type": "code",
      "metadata": {
        "id": "1l_xc1GWjIXk",
        "colab_type": "code",
        "colab": {}
      },
      "source": [
        "from google.colab import drive\n",
        "drive.mount('/content/gdrive', force_remount=True)"
      ],
      "execution_count": 0,
      "outputs": []
    },
    {
      "cell_type": "code",
      "metadata": {
        "id": "IWIewErxjIXq",
        "colab_type": "code",
        "colab": {}
      },
      "source": [
        "min_frames = 113\n",
        "train_path = '/content/gdrive/My Drive/Team\\'s Drive/Graduation Project/Dataset(Train-Test)/train'\n",
        "test_path = '/content/gdrive/My Drive/Team\\'s Drive/Graduation Project/Dataset(Train-Test)/test'"
      ],
      "execution_count": 0,
      "outputs": []
    },
    {
      "cell_type": "markdown",
      "metadata": {
        "id": "H9zIAMZ7jIXv",
        "colab_type": "text"
      },
      "source": [
        "<h2>Funtions.</h2>"
      ]
    },
    {
      "cell_type": "code",
      "metadata": {
        "id": "cd8juGqkjIXw",
        "colab_type": "code",
        "colab": {}
      },
      "source": [
        "def get_inner_paths(path):\n",
        "    inner_paths = glob.glob(path + '/*')\n",
        "    inner_paths.sort()\n",
        "    inner_names = [os.path.basename(inner_path) for inner_path in inner_paths]\n",
        "    return inner_paths, inner_names"
      ],
      "execution_count": 0,
      "outputs": []
    },
    {
      "cell_type": "code",
      "metadata": {
        "id": "LKS2oP1MjIX6",
        "colab_type": "code",
        "colab": {}
      },
      "source": [
        "def get_frames(video_path):\n",
        "    frame_paths, _ = get_inner_paths(video_path)\n",
        "    frames = [cv2.imread(frame_path) for frame_path in frame_paths]\n",
        "    return frames"
      ],
      "execution_count": 0,
      "outputs": []
    },
    {
      "cell_type": "code",
      "metadata": {
        "id": "kasn8x2fjIX1",
        "colab_type": "code",
        "colab": {}
      },
      "source": [
        "def find_min_frames():\n",
        "    min_frames = 100000\n",
        "    train_paths, _ = get_inner_paths(train_path)\n",
        "    test_paths, _ = get_inner_paths(test_path)\n",
        "    for path in train_paths + test_paths:\n",
        "        frames = glob.glob(path)\n",
        "        if len(frames) < min_frames:\n",
        "            min_frames = len(frames)\n",
        "    return min_frames"
      ],
      "execution_count": 0,
      "outputs": []
    },
    {
      "cell_type": "code",
      "metadata": {
        "id": "99PyzF2EjIX_",
        "colab_type": "code",
        "colab": {}
      },
      "source": [
        "def divide_save_subclips(video_path, video_name, subclips_path):\n",
        "    frames = get_frames(video_path)\n",
        "    folder_name = subclips_path + '/' + video_name\n",
        "    print(folder_name)\n",
        "    os.mkdir(folder_name)\n",
        "    subvideos = len(frames) // min_frames\n",
        "    print('frames: ', len(frames), 'subvideos: ', subvideos)\n",
        "    for subvideo_num in range(subvideos):\n",
        "        subvideo_name = str(subvideo_num).zfill(3)\n",
        "        subvideo_dir = folder_name + '/' + subvideo_name\n",
        "        os.mkdir(subvideo_dir)\n",
        "        for j in range(min_frames):\n",
        "            frame_index = j + subvideo_num * min_frames\n",
        "            frame_path = subvideo_dir + '/' + str(frame_index).zfill(4) + '.jpg'\n",
        "            cv2.imwrite(frame_path, frames[frame_index])\n",
        "    remaining_frames = len(frames) % min_frames\n",
        "    subvideo_num = subvideos\n",
        "    if remaining_frames > 0.5 * min_frames:\n",
        "        subvideo_name = str(subvideo_num).zfill(3)\n",
        "        subvideo_dir = folder_name + '/' + subvideo_name\n",
        "        os.mkdir(subvideo_dir)\n",
        "        missing = min_frames - remaining_frames\n",
        "        start_index = len(frames) - remaining_frames - missing\n",
        "        for frame_index in range(start_index, len(frames)):\n",
        "            frame_path = subvideo_dir + '/' + str(frame_index).zfill(4) + '.jpg'\n",
        "            cv2.imwrite(frame_path, frames[frame_index])\n",
        "    return"
      ],
      "execution_count": 0,
      "outputs": []
    },
    {
      "cell_type": "markdown",
      "metadata": {
        "id": "WhFbSAo_jPNV",
        "colab_type": "text"
      },
      "source": [
        "## Main"
      ]
    },
    {
      "cell_type": "code",
      "metadata": {
        "id": "Ua3L0oafjIYD",
        "colab_type": "code",
        "outputId": "64239db0-d495-453f-dece-2d39754c4972",
        "colab": {
          "base_uri": "https://localhost:8080/",
          "height": 43
        }
      },
      "source": [
        "min_frames = find_min_frames()\n",
        "print(min_frames)"
      ],
      "execution_count": 0,
      "outputs": [
        {
          "output_type": "stream",
          "text": [
            "113\n"
          ],
          "name": "stdout"
        }
      ]
    },
    {
      "cell_type": "code",
      "metadata": {
        "id": "YJzUiLL-kyEk",
        "colab_type": "code",
        "colab": {}
      },
      "source": [
        "os.mkdir('/content/train')\n",
        "train_paths, train_names = get_inner_paths(train_path)\n",
        "_, done_names = get_inner_paths('/content/gdrive/My Drive/Team\\'s Drive/Graduation Project/Dataset_3DCNN/train')\n",
        "for path, name in tqdm(zip(train_paths, train_names)):\n",
        "    if name not in done_names:\n",
        "        print(name)\n",
        "        divide_save_subclips(path, name, '/content/train')"
      ],
      "execution_count": 0,
      "outputs": []
    },
    {
      "cell_type": "code",
      "metadata": {
        "id": "aFTkca_toKHB",
        "colab_type": "code",
        "colab": {}
      },
      "source": [
        "!cp -r /content/train /content/gdrive/\"My Drive\"/\"Team's Drive\"/\"Graduation Project\"/Dataset_3DCNN"
      ],
      "execution_count": 0,
      "outputs": []
    },
    {
      "cell_type": "code",
      "metadata": {
        "id": "_BpGAZTQf604",
        "colab_type": "code",
        "colab": {}
      },
      "source": [
        "os.mkdir('/content/test')\n",
        "test_paths, test_names = get_video_paths(test_path)\n",
        "for path, name in tqdm(zip(test_paths, test_names)):\n",
        "    print(name)\n",
        "    divide_save_subclips(path, name, '/content/test')"
      ],
      "execution_count": 0,
      "outputs": []
    },
    {
      "cell_type": "code",
      "metadata": {
        "id": "q4Eo3ucWUHwf",
        "colab_type": "code",
        "colab": {}
      },
      "source": [
        "!cp -r /content/test /content/gdrive/\"My Drive\"/\"Team's Drive\"/\"Graduation Project\"/Dataset_3DCNN"
      ],
      "execution_count": 0,
      "outputs": []
    },
    {
      "cell_type": "markdown",
      "metadata": {
        "id": "wFcNciaaL4Jx",
        "colab_type": "text"
      },
      "source": [
        "# Validation"
      ]
    },
    {
      "cell_type": "code",
      "metadata": {
        "id": "Z0mfgbh0Co0t",
        "colab_type": "code",
        "outputId": "e86aaeb9-924e-47ff-fc5a-2d6e5c921703",
        "colab": {
          "base_uri": "https://localhost:8080/",
          "height": 97
        }
      },
      "source": [
        "cnn_train_paths, _ = get_inner_paths('/content/gdrive/My Drive/Team\\'s Drive/Graduation Project/Dataset_3DCNN/train')\n",
        "cnn_test_paths, _ = get_inner_paths('/content/gdrive/My Drive/Team\\'s Drive/Graduation Project/Dataset_3DCNN/test')\n",
        "print('Number of train videos: ', len(cnn_train_paths))\n",
        "print('Number of test videos: ', len(cnn_test_paths))\n",
        "\n",
        "mis_split_paths = []\n",
        "for path in cnn_train_paths + cnn_test_paths:\n",
        "    subpaths, _ = get_inner_paths(path)\n",
        "    for subpath in subpaths:\n",
        "        frames_paths, _ = get_inner_paths(subpath)\n",
        "        if len(frames_paths) != 113:\n",
        "            mis_split_paths.append(subpath)\n",
        "print('Number of mis-split videos: ', len(mis_split_paths))\n",
        "if len(mis_split_paths) != 0:\n",
        "    print('Mis-split paths: ', mis_split_paths)"
      ],
      "execution_count": 44,
      "outputs": [
        {
          "output_type": "stream",
          "text": [
            "Number of train videos:  96\n",
            "Number of test videos:  25\n",
            "Number of mis-split videos:  0\n"
          ],
          "name": "stdout"
        }
      ]
    },
    {
      "cell_type": "code",
      "metadata": {
        "id": "Igqa6pSsJWXv",
        "colab_type": "code",
        "colab": {}
      },
      "source": [
        "def validate_number_of_frames(paths, split_paths):\n",
        "    error_paths = []\n",
        "    for path, split_path in zip(paths, split_paths):\n",
        "        _, frame_numbers = get_inner_paths(path)\n",
        "        subpaths, _ = get_inner_paths(split_path)\n",
        "        last_subpath = subpaths[-1]\n",
        "        _, last_frames_numbers = get_inner_paths(last_subpath)\n",
        "        last_frame_split = int(last_frames_numbers[-1][:4])\n",
        "        last_frame = int(frame_numbers[-1][:4])\n",
        "        if last_frame_split != last_frame and last_frame - last_frame_split > 0.5 * min_frames:\n",
        "            error_paths.append(split_path)\n",
        "    return error_paths"
      ],
      "execution_count": 0,
      "outputs": []
    },
    {
      "cell_type": "code",
      "metadata": {
        "id": "A_T5DLcjTq8s",
        "colab_type": "code",
        "colab": {
          "base_uri": "https://localhost:8080/",
          "height": 43
        },
        "outputId": "dfe7c6d2-ec64-4a46-9e15-86789559e2e2"
      },
      "source": [
        "train_paths, _ = get_inner_paths('/content/gdrive/My Drive/Team\\'s Drive/Graduation Project/Dataset(Train-Test)/train')\n",
        "cnn_train_paths, _ = get_inner_paths('/content/gdrive/My Drive/Team\\'s Drive/Graduation Project/Dataset_3DCNN/train')\n",
        "error_paths = validate_number_of_frames(train_paths, cnn_train_paths)\n",
        "print('Number of train videos with missing frames: ', len(error_paths))\n",
        "if len(error_paths) != 0:\n",
        "    print('Error paths: ', error_paths)"
      ],
      "execution_count": 37,
      "outputs": [
        {
          "output_type": "stream",
          "text": [
            "Number of train videos with missing frames:  0\n"
          ],
          "name": "stdout"
        }
      ]
    },
    {
      "cell_type": "code",
      "metadata": {
        "id": "h7o7rmqKRmyc",
        "colab_type": "code",
        "outputId": "e482e3bb-9e4c-4c85-c8f0-ebf98f71f19c",
        "colab": {
          "base_uri": "https://localhost:8080/",
          "height": 43
        }
      },
      "source": [
        "test_paths, _ = get_inner_paths('/content/gdrive/My Drive/Team\\'s Drive/Graduation Project/Dataset(Train-Test)/test')\n",
        "cnn_test_paths, _ = get_inner_paths('/content/gdrive/My Drive/Team\\'s Drive/Graduation Project/Dataset_3DCNN/test')\n",
        "error_paths = validate_number_of_frames(test_paths, cnn_test_paths)\n",
        "print('Number of test videos with missing frames: ', len(error_paths))\n",
        "if len(error_paths) != 0:\n",
        "    print('Error paths: ', error_paths)"
      ],
      "execution_count": 20,
      "outputs": [
        {
          "output_type": "stream",
          "text": [
            "Number of test videos with missing frames:  0\n"
          ],
          "name": "stdout"
        }
      ]
    },
    {
      "cell_type": "code",
      "metadata": {
        "id": "y4ZSix_Yd89e",
        "colab_type": "code",
        "colab": {}
      },
      "source": [
        ""
      ],
      "execution_count": 0,
      "outputs": []
    }
  ]
}