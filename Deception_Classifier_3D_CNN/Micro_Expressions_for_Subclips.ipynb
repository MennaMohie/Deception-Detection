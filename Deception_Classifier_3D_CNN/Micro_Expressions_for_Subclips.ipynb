{
  "nbformat": 4,
  "nbformat_minor": 0,
  "metadata": {
    "colab": {
      "name": "Micro-Expressions for Subclips.ipynb",
      "provenance": []
    },
    "kernelspec": {
      "name": "python3",
      "display_name": "Python 3"
    }
  },
  "cells": [
    {
      "cell_type": "markdown",
      "metadata": {
        "id": "3aB6nnS1loXM",
        "colab_type": "text"
      },
      "source": [
        "# Imports and Constants"
      ]
    },
    {
      "cell_type": "code",
      "metadata": {
        "id": "WkPiXKaykQsW",
        "colab_type": "code",
        "colab": {}
      },
      "source": [
        "import os\n",
        "import glob\n",
        "import pandas as pd\n",
        "import numpy as np\n",
        "from tqdm import tqdm"
      ],
      "execution_count": 1,
      "outputs": []
    },
    {
      "cell_type": "code",
      "metadata": {
        "id": "KUwG6OTAkxDW",
        "colab_type": "code",
        "colab": {
          "base_uri": "https://localhost:8080/",
          "height": 128
        },
        "outputId": "f84263c9-8fb8-4c26-ce41-f41da30379a2"
      },
      "source": [
        "from google.colab import drive\n",
        "drive.mount('/content/gdrive', force_remount=True)"
      ],
      "execution_count": 2,
      "outputs": [
        {
          "output_type": "stream",
          "text": [
            "Go to this URL in a browser: https://accounts.google.com/o/oauth2/auth?client_id=947318989803-6bn6qk8qdgf4n4g3pfee6491hc0brc4i.apps.googleusercontent.com&redirect_uri=urn%3aietf%3awg%3aoauth%3a2.0%3aoob&response_type=code&scope=email%20https%3a%2f%2fwww.googleapis.com%2fauth%2fdocs.test%20https%3a%2f%2fwww.googleapis.com%2fauth%2fdrive%20https%3a%2f%2fwww.googleapis.com%2fauth%2fdrive.photos.readonly%20https%3a%2f%2fwww.googleapis.com%2fauth%2fpeopleapi.readonly\n",
            "\n",
            "Enter your authorization code:\n",
            "··········\n",
            "Mounted at /content/gdrive\n"
          ],
          "name": "stdout"
        }
      ]
    },
    {
      "cell_type": "code",
      "metadata": {
        "id": "LMrVALXbkzaO",
        "colab_type": "code",
        "colab": {}
      },
      "source": [
        "train_path = '/content/gdrive/My Drive/Team\\'s Drive/Graduation Project/Dataset_3DCNN/train'\n",
        "test_path = '/content/gdrive/My Drive/Team\\'s Drive/Graduation Project/Dataset_3DCNN/test'\n",
        "cnn_numpys_path = '/content/gdrive/My Drive/Team\\'s Drive/3DCNN Numpys'\n",
        "micro_exp_path = '/content/gdrive/My Drive/Team\\'s Drive/Graduation Project/Project/Dataset/Annotation/All_Gestures_Deceptive and Truthful.csv'"
      ],
      "execution_count": 3,
      "outputs": []
    },
    {
      "cell_type": "markdown",
      "metadata": {
        "id": "NPEJwIO0luxM",
        "colab_type": "text"
      },
      "source": [
        "# Functions' Definitions"
      ]
    },
    {
      "cell_type": "code",
      "metadata": {
        "id": "6YMBRweElw5S",
        "colab_type": "code",
        "colab": {}
      },
      "source": [
        "def get_inner_paths(path):\n",
        "    inner_paths = glob.glob(path + '/*')\n",
        "    inner_paths.sort()\n",
        "    inner_names = [os.path.basename(inner_path) for inner_path in inner_paths]\n",
        "    return inner_paths, inner_names"
      ],
      "execution_count": 4,
      "outputs": []
    },
    {
      "cell_type": "code",
      "metadata": {
        "id": "nfC-WQrHw_ai",
        "colab_type": "code",
        "colab": {}
      },
      "source": [
        "def get_subs_micros(video_paths, video_names, micro_exp_np):\n",
        "    subclips_micro_exp = []\n",
        "    for video_path, video_name in zip(video_paths, video_names):\n",
        "        _, subclips_names = get_inner_paths(video_path)\n",
        "        index = int(video_name[-3:]) - 1\n",
        "        if video_name[6] == 't':  # trial_truth\n",
        "            index += 61\n",
        "        for i in range(len(subclips_names)):\n",
        "            subclips_micro_exp.append(micro_exp_np[index][1:40])\n",
        "    return np.asarray(subclips_micro_exp)"
      ],
      "execution_count": 5,
      "outputs": []
    },
    {
      "cell_type": "markdown",
      "metadata": {
        "id": "aJZHPGhGnSqE",
        "colab_type": "text"
      },
      "source": [
        "# Main"
      ]
    },
    {
      "cell_type": "code",
      "metadata": {
        "id": "SsAuf14QmFCA",
        "colab_type": "code",
        "colab": {}
      },
      "source": [
        "train_paths, train_names = get_inner_paths(train_path)\n",
        "test_paths, test_names = get_inner_paths(test_path)\n",
        "micro_exp_np = pd.read_csv(micro_exp_path).to_numpy()"
      ],
      "execution_count": 6,
      "outputs": []
    },
    {
      "cell_type": "code",
      "metadata": {
        "id": "RiIQKZibnLtL",
        "colab_type": "code",
        "colab": {
          "base_uri": "https://localhost:8080/",
          "height": 117
        },
        "outputId": "80c105c7-7b4e-4375-a0e0-7121883d0d2d"
      },
      "source": [
        "# to get the micro-expressions of video with index 0:\n",
        "print('Micro Expressions of video 0:\\n', micro_exp_np[0][1:40])\n",
        "print('Length: ', len(micro_exp_np[0][1:40]))\n",
        "print('Type: ', type(micro_exp_np[0][1:40]))"
      ],
      "execution_count": 7,
      "outputs": [
        {
          "output_type": "stream",
          "text": [
            "Micro Expressions of video 0:\n",
            " [1 0 0 0 1 0 0 1 0 0 0 1 0 0 0 0 0 1 1 0 0 0 0 0 0 0 0 1 0 0 0 0 0 0 1 0 0\n",
            " 0 0]\n",
            "Length:  39\n",
            "Type:  <class 'numpy.ndarray'>\n"
          ],
          "name": "stdout"
        }
      ]
    },
    {
      "cell_type": "code",
      "metadata": {
        "id": "zaDyHOdCnsOA",
        "colab_type": "code",
        "colab": {}
      },
      "source": [
        "train_subclips_micro_exp_np = get_subs_micros(train_paths, train_names, micro_exp_np)\n",
        "test_subclips_micro_exp_np = get_subs_micros(test_paths, test_names, micro_exp_np)"
      ],
      "execution_count": 8,
      "outputs": []
    },
    {
      "cell_type": "code",
      "metadata": {
        "id": "HfYHjqbNpc6g",
        "colab_type": "code",
        "colab": {
          "base_uri": "https://localhost:8080/",
          "height": 35
        },
        "outputId": "06012e2a-3e9f-426d-d679-28db9b5eab50"
      },
      "source": [
        "train_subclips_micro_exp_np.shape"
      ],
      "execution_count": 9,
      "outputs": [
        {
          "output_type": "execute_result",
          "data": {
            "text/plain": [
              "(692, 39)"
            ]
          },
          "metadata": {
            "tags": []
          },
          "execution_count": 9
        }
      ]
    },
    {
      "cell_type": "code",
      "metadata": {
        "id": "X-N1QizpwMHF",
        "colab_type": "code",
        "colab": {
          "base_uri": "https://localhost:8080/",
          "height": 35
        },
        "outputId": "579e8eab-9b2f-43ad-fb56-423cfb441580"
      },
      "source": [
        "test_subclips_micro_exp_np.shape"
      ],
      "execution_count": 10,
      "outputs": [
        {
          "output_type": "execute_result",
          "data": {
            "text/plain": [
              "(114, 39)"
            ]
          },
          "metadata": {
            "tags": []
          },
          "execution_count": 10
        }
      ]
    },
    {
      "cell_type": "code",
      "metadata": {
        "id": "4f6UkFOo3sY6",
        "colab_type": "code",
        "colab": {}
      },
      "source": [
        "np.save(cnn_numpys_path + '/train_micro_exps.npy', train_subclips_micro_exp_np)\n",
        "np.save(cnn_numpys_path + '/test_micro_exps.npy', test_subclips_micro_exp_np)"
      ],
      "execution_count": 11,
      "outputs": []
    },
    {
      "cell_type": "code",
      "metadata": {
        "id": "rmOyPQ9p4Wmu",
        "colab_type": "code",
        "colab": {}
      },
      "source": [
        ""
      ],
      "execution_count": 11,
      "outputs": []
    }
  ]
}